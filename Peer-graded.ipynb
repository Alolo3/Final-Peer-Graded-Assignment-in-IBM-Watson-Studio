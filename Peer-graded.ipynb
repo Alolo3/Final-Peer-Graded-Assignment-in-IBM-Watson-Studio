{
 "cells": [
  {
   "cell_type": "markdown",
   "id": "554f861a-14d9-41b1-b139-9e5c9cd77de1",
   "metadata": {},
   "source": [
    "#Peer-Graded Assignment on Tools for Data Science "
   ]
  },
  {
   "cell_type": "markdown",
   "id": "35905eb3-d7d9-4338-aa48-d29f5272802a",
   "metadata": {},
   "source": [
    "This is an assignment presented to demonstrate my general understanding of using different tools in data science. The exercise will examine working with Jupyter notebook and Github  "
   ]
  },
  {
   "cell_type": "markdown",
   "id": "f3390a21-705a-47ad-9f5e-7b1c5fb14c56",
   "metadata": {},
   "source": [
    "Below are the list of some of the top data science programming languages.\n",
    "\n",
    "1. Python\n",
    "1. R\n",
    "1. SQL\n",
    "1. Java\n",
    "1. Julia\n",
    "1. Scala\n",
    "1. C/C++\n",
    "1. JavaScript\n",
    "1. Swift\n",
    "1. MATLAB\n",
    "1. SAS"
   ]
  },
  {
   "cell_type": "markdown",
   "id": "294b1246-c9ae-4ae8-a8fd-97edd24141f9",
   "metadata": {},
   "source": [
    "Data science libraries include the following;\n",
    "\n",
    "1. Numpy\n",
    "1. Pandas\n",
    "1. Matplotlib\n",
    "1. Seaborn\n",
    "1. TensFlow\n",
    "1. Keras\n",
    "1. Statsmodels\n",
    "1. scikit-image\n",
    "1. plotly"
   ]
  },
  {
   "cell_type": "markdown",
   "id": "adaa3125-ad8b-4b42-a404-e59ea647f687",
   "metadata": {},
   "source": [
    "Some popular data science tools include the following;\n",
    "\n",
    "Data Science Tools\n",
    "|     |     |     |\n",
    "| --- | --- | --- |\n",
    "| SAS | Tableau | Jupyter |\n",
    "| Apache Spark | Excel | NLTK |\n",
    "| Scikit-learn | ggplot | BigML|"
   ]
  },
  {
   "cell_type": "markdown",
   "id": "7a9335e3-c084-4e4d-ba43-c7bc9ad8613a",
   "metadata": {},
   "source": [
    "Arithmetic Expression\n",
    "\n",
    "$ 20 + 30 $"
   ]
  },
  {
   "cell_type": "code",
   "execution_count": 1,
   "id": "24bb3469-44d5-4b50-a375-19c016f89f6d",
   "metadata": {},
   "outputs": [
    {
     "name": "stdout",
     "output_type": "stream",
     "text": [
      "40.0\n"
     ]
    }
   ],
   "source": [
    "a = 52\n",
    "b = 28\n",
    "c = a + b\n",
    "x = c / 2\n",
    "print(x)"
   ]
  },
  {
   "cell_type": "code",
   "execution_count": null,
   "id": "a0f30b22-6f0c-4ae6-83d3-963dab69d1d0",
   "metadata": {},
   "outputs": [],
   "source": []
  },
  {
   "cell_type": "code",
   "execution_count": 2,
   "id": "5350c773-38b0-4865-87a2-3f0a2f10f415",
   "metadata": {},
   "outputs": [
    {
     "ename": "NameError",
     "evalue": "name 'seconds' is not defined",
     "output_type": "error",
     "traceback": [
      "\u001b[0;31m---------------------------------------------------------------------------\u001b[0m",
      "\u001b[0;31mNameError\u001b[0m                                 Traceback (most recent call last)",
      "\u001b[0;32m/tmp/ipykernel_2043/162369537.py\u001b[0m in \u001b[0;36m<module>\u001b[0;34m\u001b[0m\n\u001b[0;32m----> 1\u001b[0;31m \u001b[0mminutes\u001b[0m \u001b[0;34m=\u001b[0m \u001b[0mseconds\u001b[0m \u001b[0;34m%\u001b[0m \u001b[0;34m(\u001b[0m\u001b[0;36m24\u001b[0m \u001b[0;34m*\u001b[0m \u001b[0;36m3600\u001b[0m\u001b[0;34m)\u001b[0m\u001b[0;34m\u001b[0m\u001b[0;34m\u001b[0m\u001b[0m\n\u001b[0m",
      "\u001b[0;31mNameError\u001b[0m: name 'seconds' is not defined"
     ]
    }
   ],
   "source": [
    "minutes = seconds % (24 * 3600)"
   ]
  },
  {
   "cell_type": "markdown",
   "id": "0e20ec83-54d7-481e-b2fa-5cff179cc103",
   "metadata": {},
   "source": [
    "Objectives \n",
    "\n",
    "1. To be able to use data science tools to find insights in data\n",
    "1. To be able to select the appropriate data science tools and techniques based on the type of data to be analyzed\n",
    "1. To become a Data Scientist\n"
   ]
  },
  {
   "cell_type": "markdown",
   "id": "bae72a96-79a8-4537-a71e-35a27a53cc19",
   "metadata": {},
   "source": [
    "Author's name: Arimeyaw Alhassan Alolo"
   ]
  },
  {
   "cell_type": "code",
   "execution_count": null,
   "id": "4f0ba468-6916-4e54-8e23-e3a8945f767d",
   "metadata": {},
   "outputs": [],
   "source": []
  }
 ],
 "metadata": {
  "kernelspec": {
   "display_name": "Python",
   "language": "python",
   "name": "conda-env-python-py"
  },
  "language_info": {
   "codemirror_mode": {
    "name": "ipython",
    "version": 3
   },
   "file_extension": ".py",
   "mimetype": "text/x-python",
   "name": "python",
   "nbconvert_exporter": "python",
   "pygments_lexer": "ipython3",
   "version": "3.7.12"
  }
 },
 "nbformat": 4,
 "nbformat_minor": 5
}
